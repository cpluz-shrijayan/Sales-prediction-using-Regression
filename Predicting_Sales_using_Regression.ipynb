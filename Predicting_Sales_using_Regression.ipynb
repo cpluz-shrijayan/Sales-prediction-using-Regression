{
  "nbformat": 4,
  "nbformat_minor": 0,
  "metadata": {
    "colab": {
      "provenance": []
    },
    "kernelspec": {
      "name": "python3",
      "display_name": "Python 3"
    },
    "language_info": {
      "name": "python"
    }
  },
  "cells": [
    {
      "cell_type": "markdown",
      "source": [
        "# Predicting TV, Radio, Newspapaer Sales using Linear Regression "
      ],
      "metadata": {
        "id": "ZahdnGAfoY7D"
      }
    },
    {
      "cell_type": "markdown",
      "source": [
        "## Import libraries\n",
        "We’ll import the numpy and pandas library in the Jupyter notebook and read the data using pandas."
      ],
      "metadata": {
        "id": "FL4R8Ai2zaum"
      }
    },
    {
      "cell_type": "code",
      "execution_count": 3,
      "metadata": {
        "colab": {
          "base_uri": "https://localhost:8080/",
          "height": 424
        },
        "id": "yQNkFRcxhlQm",
        "outputId": "524c3f26-df73-4d5f-bf9e-e8f56d499fb4"
      },
      "outputs": [
        {
          "output_type": "execute_result",
          "data": {
            "text/plain": [
              "        TV  Radio  Newspaper  Sales\n",
              "0    230.1   37.8       69.2   22.1\n",
              "1     44.5   39.3       45.1   10.4\n",
              "2     17.2   45.9       69.3   12.0\n",
              "3    151.5   41.3       58.5   16.5\n",
              "4    180.8   10.8       58.4   17.9\n",
              "..     ...    ...        ...    ...\n",
              "195   38.2    3.7       13.8    7.6\n",
              "196   94.2    4.9        8.1   14.0\n",
              "197  177.0    9.3        6.4   14.8\n",
              "198  283.6   42.0       66.2   25.5\n",
              "199  232.1    8.6        8.7   18.4\n",
              "\n",
              "[200 rows x 4 columns]"
            ],
            "text/html": [
              "\n",
              "  <div id=\"df-5fe34869-7ca9-490b-8912-7309f3b3a19d\">\n",
              "    <div class=\"colab-df-container\">\n",
              "      <div>\n",
              "<style scoped>\n",
              "    .dataframe tbody tr th:only-of-type {\n",
              "        vertical-align: middle;\n",
              "    }\n",
              "\n",
              "    .dataframe tbody tr th {\n",
              "        vertical-align: top;\n",
              "    }\n",
              "\n",
              "    .dataframe thead th {\n",
              "        text-align: right;\n",
              "    }\n",
              "</style>\n",
              "<table border=\"1\" class=\"dataframe\">\n",
              "  <thead>\n",
              "    <tr style=\"text-align: right;\">\n",
              "      <th></th>\n",
              "      <th>TV</th>\n",
              "      <th>Radio</th>\n",
              "      <th>Newspaper</th>\n",
              "      <th>Sales</th>\n",
              "    </tr>\n",
              "  </thead>\n",
              "  <tbody>\n",
              "    <tr>\n",
              "      <th>0</th>\n",
              "      <td>230.1</td>\n",
              "      <td>37.8</td>\n",
              "      <td>69.2</td>\n",
              "      <td>22.1</td>\n",
              "    </tr>\n",
              "    <tr>\n",
              "      <th>1</th>\n",
              "      <td>44.5</td>\n",
              "      <td>39.3</td>\n",
              "      <td>45.1</td>\n",
              "      <td>10.4</td>\n",
              "    </tr>\n",
              "    <tr>\n",
              "      <th>2</th>\n",
              "      <td>17.2</td>\n",
              "      <td>45.9</td>\n",
              "      <td>69.3</td>\n",
              "      <td>12.0</td>\n",
              "    </tr>\n",
              "    <tr>\n",
              "      <th>3</th>\n",
              "      <td>151.5</td>\n",
              "      <td>41.3</td>\n",
              "      <td>58.5</td>\n",
              "      <td>16.5</td>\n",
              "    </tr>\n",
              "    <tr>\n",
              "      <th>4</th>\n",
              "      <td>180.8</td>\n",
              "      <td>10.8</td>\n",
              "      <td>58.4</td>\n",
              "      <td>17.9</td>\n",
              "    </tr>\n",
              "    <tr>\n",
              "      <th>...</th>\n",
              "      <td>...</td>\n",
              "      <td>...</td>\n",
              "      <td>...</td>\n",
              "      <td>...</td>\n",
              "    </tr>\n",
              "    <tr>\n",
              "      <th>195</th>\n",
              "      <td>38.2</td>\n",
              "      <td>3.7</td>\n",
              "      <td>13.8</td>\n",
              "      <td>7.6</td>\n",
              "    </tr>\n",
              "    <tr>\n",
              "      <th>196</th>\n",
              "      <td>94.2</td>\n",
              "      <td>4.9</td>\n",
              "      <td>8.1</td>\n",
              "      <td>14.0</td>\n",
              "    </tr>\n",
              "    <tr>\n",
              "      <th>197</th>\n",
              "      <td>177.0</td>\n",
              "      <td>9.3</td>\n",
              "      <td>6.4</td>\n",
              "      <td>14.8</td>\n",
              "    </tr>\n",
              "    <tr>\n",
              "      <th>198</th>\n",
              "      <td>283.6</td>\n",
              "      <td>42.0</td>\n",
              "      <td>66.2</td>\n",
              "      <td>25.5</td>\n",
              "    </tr>\n",
              "    <tr>\n",
              "      <th>199</th>\n",
              "      <td>232.1</td>\n",
              "      <td>8.6</td>\n",
              "      <td>8.7</td>\n",
              "      <td>18.4</td>\n",
              "    </tr>\n",
              "  </tbody>\n",
              "</table>\n",
              "<p>200 rows × 4 columns</p>\n",
              "</div>\n",
              "      <button class=\"colab-df-convert\" onclick=\"convertToInteractive('df-5fe34869-7ca9-490b-8912-7309f3b3a19d')\"\n",
              "              title=\"Convert this dataframe to an interactive table.\"\n",
              "              style=\"display:none;\">\n",
              "        \n",
              "  <svg xmlns=\"http://www.w3.org/2000/svg\" height=\"24px\"viewBox=\"0 0 24 24\"\n",
              "       width=\"24px\">\n",
              "    <path d=\"M0 0h24v24H0V0z\" fill=\"none\"/>\n",
              "    <path d=\"M18.56 5.44l.94 2.06.94-2.06 2.06-.94-2.06-.94-.94-2.06-.94 2.06-2.06.94zm-11 1L8.5 8.5l.94-2.06 2.06-.94-2.06-.94L8.5 2.5l-.94 2.06-2.06.94zm10 10l.94 2.06.94-2.06 2.06-.94-2.06-.94-.94-2.06-.94 2.06-2.06.94z\"/><path d=\"M17.41 7.96l-1.37-1.37c-.4-.4-.92-.59-1.43-.59-.52 0-1.04.2-1.43.59L10.3 9.45l-7.72 7.72c-.78.78-.78 2.05 0 2.83L4 21.41c.39.39.9.59 1.41.59.51 0 1.02-.2 1.41-.59l7.78-7.78 2.81-2.81c.8-.78.8-2.07 0-2.86zM5.41 20L4 18.59l7.72-7.72 1.47 1.35L5.41 20z\"/>\n",
              "  </svg>\n",
              "      </button>\n",
              "      \n",
              "  <style>\n",
              "    .colab-df-container {\n",
              "      display:flex;\n",
              "      flex-wrap:wrap;\n",
              "      gap: 12px;\n",
              "    }\n",
              "\n",
              "    .colab-df-convert {\n",
              "      background-color: #E8F0FE;\n",
              "      border: none;\n",
              "      border-radius: 50%;\n",
              "      cursor: pointer;\n",
              "      display: none;\n",
              "      fill: #1967D2;\n",
              "      height: 32px;\n",
              "      padding: 0 0 0 0;\n",
              "      width: 32px;\n",
              "    }\n",
              "\n",
              "    .colab-df-convert:hover {\n",
              "      background-color: #E2EBFA;\n",
              "      box-shadow: 0px 1px 2px rgba(60, 64, 67, 0.3), 0px 1px 3px 1px rgba(60, 64, 67, 0.15);\n",
              "      fill: #174EA6;\n",
              "    }\n",
              "\n",
              "    [theme=dark] .colab-df-convert {\n",
              "      background-color: #3B4455;\n",
              "      fill: #D2E3FC;\n",
              "    }\n",
              "\n",
              "    [theme=dark] .colab-df-convert:hover {\n",
              "      background-color: #434B5C;\n",
              "      box-shadow: 0px 1px 3px 1px rgba(0, 0, 0, 0.15);\n",
              "      filter: drop-shadow(0px 1px 2px rgba(0, 0, 0, 0.3));\n",
              "      fill: #FFFFFF;\n",
              "    }\n",
              "  </style>\n",
              "\n",
              "      <script>\n",
              "        const buttonEl =\n",
              "          document.querySelector('#df-5fe34869-7ca9-490b-8912-7309f3b3a19d button.colab-df-convert');\n",
              "        buttonEl.style.display =\n",
              "          google.colab.kernel.accessAllowed ? 'block' : 'none';\n",
              "\n",
              "        async function convertToInteractive(key) {\n",
              "          const element = document.querySelector('#df-5fe34869-7ca9-490b-8912-7309f3b3a19d');\n",
              "          const dataTable =\n",
              "            await google.colab.kernel.invokeFunction('convertToInteractive',\n",
              "                                                     [key], {});\n",
              "          if (!dataTable) return;\n",
              "\n",
              "          const docLinkHtml = 'Like what you see? Visit the ' +\n",
              "            '<a target=\"_blank\" href=https://colab.research.google.com/notebooks/data_table.ipynb>data table notebook</a>'\n",
              "            + ' to learn more about interactive tables.';\n",
              "          element.innerHTML = '';\n",
              "          dataTable['output_type'] = 'display_data';\n",
              "          await google.colab.output.renderOutput(dataTable, element);\n",
              "          const docLink = document.createElement('div');\n",
              "          docLink.innerHTML = docLinkHtml;\n",
              "          element.appendChild(docLink);\n",
              "        }\n",
              "      </script>\n",
              "    </div>\n",
              "  </div>\n",
              "  "
            ]
          },
          "metadata": {},
          "execution_count": 3
        }
      ],
      "source": [
        "# Importing naumpy and pandas libraries to read the data\n",
        "\n",
        "# Supress Warnings\n",
        "import warnings\n",
        "warnings.filterwarnings('ignore')\n",
        "\n",
        "# Import the numpy and pandas package\n",
        "import numpy as np\n",
        "import pandas as pd\n",
        "\n",
        "# Read the given CSV file, and view some sample records\n",
        "df = pd.read_csv(\"https://raw.githubusercontent.com/cpluz-shrijayan/Sales-prediction-using-Regression/main/Company_data.csv\")\n",
        "df"
      ]
    },
    {
      "cell_type": "markdown",
      "source": [
        "## Understand the data\n",
        "Let’s perform some tasks to understand the data like shape, info, and describe."
      ],
      "metadata": {
        "id": "Y2rvDHcjzV2z"
      }
    },
    {
      "cell_type": "markdown",
      "source": [
        "The shape of our dataset is,"
      ],
      "metadata": {
        "id": "djzEe0iEzrna"
      }
    },
    {
      "cell_type": "code",
      "source": [
        "# Shape of our dataset\n",
        "df.shape"
      ],
      "metadata": {
        "colab": {
          "base_uri": "https://localhost:8080/"
        },
        "id": "eWnG57yYypEW",
        "outputId": "2302434a-78b3-4b62-9448-6b981c31cbd3"
      },
      "execution_count": 8,
      "outputs": [
        {
          "output_type": "execute_result",
          "data": {
            "text/plain": [
              "(200, 4)"
            ]
          },
          "metadata": {},
          "execution_count": 8
        }
      ]
    },
    {
      "cell_type": "markdown",
      "source": [
        "Using the info, we can see whether there are any null values in the data. If yes, then we have to do some data manipulation."
      ],
      "metadata": {
        "id": "UWCdtYS3zv3C"
      }
    },
    {
      "cell_type": "code",
      "source": [
        "# Info our dataset\n",
        "df.info()"
      ],
      "metadata": {
        "id": "QE28Cv0qzNNY"
      },
      "execution_count": null,
      "outputs": []
    },
    {
      "cell_type": "markdown",
      "source": [
        "As we can observe, there are no null values present in the data.\n",
        "\n",
        "Using describe, we’ll see whether there is any sudden jump in the data’s values."
      ],
      "metadata": {
        "id": "Z3cjfiDHzzD2"
      }
    },
    {
      "cell_type": "code",
      "source": [
        "# Describe our dataset\n",
        "df.describe()"
      ],
      "metadata": {
        "colab": {
          "base_uri": "https://localhost:8080/",
          "height": 300
        },
        "id": "-oQVQHX5z1Zf",
        "outputId": "16f105aa-bf61-4e8e-dc05-6c9ad8734bdc"
      },
      "execution_count": 9,
      "outputs": [
        {
          "output_type": "execute_result",
          "data": {
            "text/plain": [
              "               TV       Radio   Newspaper       Sales\n",
              "count  200.000000  200.000000  200.000000  200.000000\n",
              "mean   147.042500   23.264000   30.554000   15.130500\n",
              "std     85.854236   14.846809   21.778621    5.283892\n",
              "min      0.700000    0.000000    0.300000    1.600000\n",
              "25%     74.375000    9.975000   12.750000   11.000000\n",
              "50%    149.750000   22.900000   25.750000   16.000000\n",
              "75%    218.825000   36.525000   45.100000   19.050000\n",
              "max    296.400000   49.600000  114.000000   27.000000"
            ],
            "text/html": [
              "\n",
              "  <div id=\"df-c72d8d38-eba6-49d1-8bfd-a2db8b8da139\">\n",
              "    <div class=\"colab-df-container\">\n",
              "      <div>\n",
              "<style scoped>\n",
              "    .dataframe tbody tr th:only-of-type {\n",
              "        vertical-align: middle;\n",
              "    }\n",
              "\n",
              "    .dataframe tbody tr th {\n",
              "        vertical-align: top;\n",
              "    }\n",
              "\n",
              "    .dataframe thead th {\n",
              "        text-align: right;\n",
              "    }\n",
              "</style>\n",
              "<table border=\"1\" class=\"dataframe\">\n",
              "  <thead>\n",
              "    <tr style=\"text-align: right;\">\n",
              "      <th></th>\n",
              "      <th>TV</th>\n",
              "      <th>Radio</th>\n",
              "      <th>Newspaper</th>\n",
              "      <th>Sales</th>\n",
              "    </tr>\n",
              "  </thead>\n",
              "  <tbody>\n",
              "    <tr>\n",
              "      <th>count</th>\n",
              "      <td>200.000000</td>\n",
              "      <td>200.000000</td>\n",
              "      <td>200.000000</td>\n",
              "      <td>200.000000</td>\n",
              "    </tr>\n",
              "    <tr>\n",
              "      <th>mean</th>\n",
              "      <td>147.042500</td>\n",
              "      <td>23.264000</td>\n",
              "      <td>30.554000</td>\n",
              "      <td>15.130500</td>\n",
              "    </tr>\n",
              "    <tr>\n",
              "      <th>std</th>\n",
              "      <td>85.854236</td>\n",
              "      <td>14.846809</td>\n",
              "      <td>21.778621</td>\n",
              "      <td>5.283892</td>\n",
              "    </tr>\n",
              "    <tr>\n",
              "      <th>min</th>\n",
              "      <td>0.700000</td>\n",
              "      <td>0.000000</td>\n",
              "      <td>0.300000</td>\n",
              "      <td>1.600000</td>\n",
              "    </tr>\n",
              "    <tr>\n",
              "      <th>25%</th>\n",
              "      <td>74.375000</td>\n",
              "      <td>9.975000</td>\n",
              "      <td>12.750000</td>\n",
              "      <td>11.000000</td>\n",
              "    </tr>\n",
              "    <tr>\n",
              "      <th>50%</th>\n",
              "      <td>149.750000</td>\n",
              "      <td>22.900000</td>\n",
              "      <td>25.750000</td>\n",
              "      <td>16.000000</td>\n",
              "    </tr>\n",
              "    <tr>\n",
              "      <th>75%</th>\n",
              "      <td>218.825000</td>\n",
              "      <td>36.525000</td>\n",
              "      <td>45.100000</td>\n",
              "      <td>19.050000</td>\n",
              "    </tr>\n",
              "    <tr>\n",
              "      <th>max</th>\n",
              "      <td>296.400000</td>\n",
              "      <td>49.600000</td>\n",
              "      <td>114.000000</td>\n",
              "      <td>27.000000</td>\n",
              "    </tr>\n",
              "  </tbody>\n",
              "</table>\n",
              "</div>\n",
              "      <button class=\"colab-df-convert\" onclick=\"convertToInteractive('df-c72d8d38-eba6-49d1-8bfd-a2db8b8da139')\"\n",
              "              title=\"Convert this dataframe to an interactive table.\"\n",
              "              style=\"display:none;\">\n",
              "        \n",
              "  <svg xmlns=\"http://www.w3.org/2000/svg\" height=\"24px\"viewBox=\"0 0 24 24\"\n",
              "       width=\"24px\">\n",
              "    <path d=\"M0 0h24v24H0V0z\" fill=\"none\"/>\n",
              "    <path d=\"M18.56 5.44l.94 2.06.94-2.06 2.06-.94-2.06-.94-.94-2.06-.94 2.06-2.06.94zm-11 1L8.5 8.5l.94-2.06 2.06-.94-2.06-.94L8.5 2.5l-.94 2.06-2.06.94zm10 10l.94 2.06.94-2.06 2.06-.94-2.06-.94-.94-2.06-.94 2.06-2.06.94z\"/><path d=\"M17.41 7.96l-1.37-1.37c-.4-.4-.92-.59-1.43-.59-.52 0-1.04.2-1.43.59L10.3 9.45l-7.72 7.72c-.78.78-.78 2.05 0 2.83L4 21.41c.39.39.9.59 1.41.59.51 0 1.02-.2 1.41-.59l7.78-7.78 2.81-2.81c.8-.78.8-2.07 0-2.86zM5.41 20L4 18.59l7.72-7.72 1.47 1.35L5.41 20z\"/>\n",
              "  </svg>\n",
              "      </button>\n",
              "      \n",
              "  <style>\n",
              "    .colab-df-container {\n",
              "      display:flex;\n",
              "      flex-wrap:wrap;\n",
              "      gap: 12px;\n",
              "    }\n",
              "\n",
              "    .colab-df-convert {\n",
              "      background-color: #E8F0FE;\n",
              "      border: none;\n",
              "      border-radius: 50%;\n",
              "      cursor: pointer;\n",
              "      display: none;\n",
              "      fill: #1967D2;\n",
              "      height: 32px;\n",
              "      padding: 0 0 0 0;\n",
              "      width: 32px;\n",
              "    }\n",
              "\n",
              "    .colab-df-convert:hover {\n",
              "      background-color: #E2EBFA;\n",
              "      box-shadow: 0px 1px 2px rgba(60, 64, 67, 0.3), 0px 1px 3px 1px rgba(60, 64, 67, 0.15);\n",
              "      fill: #174EA6;\n",
              "    }\n",
              "\n",
              "    [theme=dark] .colab-df-convert {\n",
              "      background-color: #3B4455;\n",
              "      fill: #D2E3FC;\n",
              "    }\n",
              "\n",
              "    [theme=dark] .colab-df-convert:hover {\n",
              "      background-color: #434B5C;\n",
              "      box-shadow: 0px 1px 3px 1px rgba(0, 0, 0, 0.15);\n",
              "      filter: drop-shadow(0px 1px 2px rgba(0, 0, 0, 0.3));\n",
              "      fill: #FFFFFF;\n",
              "    }\n",
              "  </style>\n",
              "\n",
              "      <script>\n",
              "        const buttonEl =\n",
              "          document.querySelector('#df-c72d8d38-eba6-49d1-8bfd-a2db8b8da139 button.colab-df-convert');\n",
              "        buttonEl.style.display =\n",
              "          google.colab.kernel.accessAllowed ? 'block' : 'none';\n",
              "\n",
              "        async function convertToInteractive(key) {\n",
              "          const element = document.querySelector('#df-c72d8d38-eba6-49d1-8bfd-a2db8b8da139');\n",
              "          const dataTable =\n",
              "            await google.colab.kernel.invokeFunction('convertToInteractive',\n",
              "                                                     [key], {});\n",
              "          if (!dataTable) return;\n",
              "\n",
              "          const docLinkHtml = 'Like what you see? Visit the ' +\n",
              "            '<a target=\"_blank\" href=https://colab.research.google.com/notebooks/data_table.ipynb>data table notebook</a>'\n",
              "            + ' to learn more about interactive tables.';\n",
              "          element.innerHTML = '';\n",
              "          dataTable['output_type'] = 'display_data';\n",
              "          await google.colab.output.renderOutput(dataTable, element);\n",
              "          const docLink = document.createElement('div');\n",
              "          docLink.innerHTML = docLinkHtml;\n",
              "          element.appendChild(docLink);\n",
              "        }\n",
              "      </script>\n",
              "    </div>\n",
              "  </div>\n",
              "  "
            ]
          },
          "metadata": {},
          "execution_count": 9
        }
      ]
    },
    {
      "cell_type": "markdown",
      "source": [
        "## Visualizing the data\n",
        "Let’s now visualize the data using the matplolib and seaborn library. We’ll make a pairplot of all the columns and see which columns are the most correlated to Sales."
      ],
      "metadata": {
        "id": "_54-kp47z6l7"
      }
    },
    {
      "cell_type": "markdown",
      "source": [
        "It is always better to use a scatter plot between two numeric variables. The pairplot for the above code looks like,"
      ],
      "metadata": {
        "id": "uX9R9CFB0T-j"
      }
    },
    {
      "cell_type": "code",
      "source": [
        "# Import matplotlib and seaborn libraries to visualize the data\n",
        "import matplotlib.pyplot as plt \n",
        "import seaborn as sns\n",
        "\n",
        "# Using pairplot we'll visualize the data for correlation\n",
        "sns.pairplot(df, x_vars=['TV', 'Radio','Newspaper'], \n",
        "             y_vars='Sales', size=4, aspect=1, kind='scatter')\n",
        "plt.show()"
      ],
      "metadata": {
        "colab": {
          "base_uri": "https://localhost:8080/",
          "height": 303
        },
        "id": "Z7jAqtQez3MV",
        "outputId": "f1865958-232d-4b7b-f709-81fa908198a5"
      },
      "execution_count": 10,
      "outputs": [
        {
          "output_type": "display_data",
          "data": {
            "text/plain": [
              "<Figure size 864x288 with 3 Axes>"
            ],
            "image/png": "[encoded data removed]"
          },
          "metadata": {
            "needs_background": "light"
          }
        }
      ]
    },
    {
      "cell_type": "markdown",
      "source": [
        "If we cannot determine the correlation using a scatter plot, we can use the seaborn heatmap to visualize the data."
      ],
      "metadata": {
        "id": "Uspxi_9P0ata"
      }
    },
    {
      "cell_type": "code",
      "source": [
        "# Visualizing the data using heatmap\n",
        "sns.heatmap(df.corr(), cmap=\"YlGnBu\", annot = True)\n",
        "plt.show()"
      ],
      "metadata": {
        "colab": {
          "base_uri": "https://localhost:8080/",
          "height": 269
        },
        "id": "lM7OBQzmz__D",
        "outputId": "1b80de65-d571-4341-f907-38e2c90dda99"
      },
      "execution_count": 11,
      "outputs": [
        {
          "output_type": "display_data",
          "data": {
            "text/plain": [
              "<Figure size 432x288 with 2 Axes>"
            ],
            "image/png": "[encoded data removed]"
          },
          "metadata": {
            "needs_background": "light"
          }
        }
      ]
    },
    {
      "cell_type": "markdown",
      "source": [
        "As we can see from the above graphs, the TV column seems most correlated to Sales.\n",
        "\n"
      ],
      "metadata": {
        "id": "O5W-pyhE0jwg"
      }
    },
    {
      "cell_type": "markdown",
      "source": [
        "Let’s perform the simple linear regression model using TV as our feature variable."
      ],
      "metadata": {
        "id": "n4EuDpQY0v7W"
      }
    },
    {
      "cell_type": "markdown",
      "source": [
        "Performing Simple Linear Regression\n",
        "\n",
        "Equation of simple linear regression\n",
        "\n",
        "y = c + mX\n",
        "\n",
        "In our case:\n",
        "\n",
        "y = c + m * TV\n",
        "\n",
        "The m values are known as model coefficients or model parameters."
      ],
      "metadata": {
        "id": "s0bo-ZnV0ze9"
      }
    },
    {
      "cell_type": "markdown",
      "source": [
        "## We’ll perform simple linear regression in four steps.\n",
        "\n",
        "1. Create X and y\n",
        "2. Create Train and Test set\n",
        "3. Train your model\n",
        "4. Evaluate the model"
      ],
      "metadata": {
        "id": "6rPOQgDk0-BX"
      }
    },
    {
      "cell_type": "markdown",
      "source": [
        "Create X and y\n",
        "\n",
        "First, we’ll assign our feature variable/column TV as X and our target variable Sales as y."
      ],
      "metadata": {
        "id": "4vj3rjaj1FPW"
      }
    },
    {
      "cell_type": "markdown",
      "source": [
        "To generalize,\n",
        "\n",
        "The independent variable represents X, and y represents the target variable in a simple linear regression model."
      ],
      "metadata": {
        "id": "elDxonu31Lue"
      }
    },
    {
      "cell_type": "code",
      "source": [
        "# Creating X and y\n",
        "X = df['TV']\n",
        "y = df['Sales']"
      ],
      "metadata": {
        "id": "bcuRS6mu0fF9"
      },
      "execution_count": 16,
      "outputs": []
    },
    {
      "cell_type": "markdown",
      "source": [
        "## Create Train and Test sets\n",
        "\n",
        "We need to split our variables into training and testing sets. Using the training set, we’ll build the model and perform the model on the testing set. We’ll divide the training and testing sets into a 7:3 ratio, respectively.\n",
        "\n",
        "We’ll split the data by importing train_test_split from the sklearn.model_selection library."
      ],
      "metadata": {
        "id": "30vLLuoS1g-q"
      }
    },
    {
      "cell_type": "code",
      "source": [
        "# Splitting the varaibles as training and testing\n",
        "from sklearn.model_selection import train_test_split\n",
        "X_train, X_test, y_train, y_test = train_test_split(X, y, train_size = 0.7, test_size = 0.3, random_state = 100)"
      ],
      "metadata": {
        "id": "1NWh9jfV1P6F"
      },
      "execution_count": 17,
      "outputs": []
    },
    {
      "cell_type": "markdown",
      "source": [
        "Let’s take a look at the training dataset,"
      ],
      "metadata": {
        "id": "OaFriU6M1q3F"
      }
    },
    {
      "cell_type": "markdown",
      "source": [
        "X_train data looks like this after splitting."
      ],
      "metadata": {
        "id": "y8sclppb1zmm"
      }
    },
    {
      "cell_type": "code",
      "source": [
        "# Take a look at the train dataset\n",
        "X_train"
      ],
      "metadata": {
        "colab": {
          "base_uri": "https://localhost:8080/"
        },
        "id": "ROX05iO-1qnQ",
        "outputId": "fc8d5e76-b29c-488a-eeaf-f401f00ac67e"
      },
      "execution_count": 18,
      "outputs": [
        {
          "output_type": "execute_result",
          "data": {
            "text/plain": [
              "74     213.4\n",
              "3      151.5\n",
              "185    205.0\n",
              "26     142.9\n",
              "90     134.3\n",
              "       ...  \n",
              "87     110.7\n",
              "103    187.9\n",
              "67     139.3\n",
              "24      62.3\n",
              "8        8.6\n",
              "Name: TV, Length: 140, dtype: float64"
            ]
          },
          "metadata": {},
          "execution_count": 18
        }
      ]
    },
    {
      "cell_type": "markdown",
      "source": [
        "y_train data looks like this after splitting."
      ],
      "metadata": {
        "id": "oUWleQd_16tE"
      }
    },
    {
      "cell_type": "code",
      "source": [
        "# Take a look at the train dataset\n",
        "y_train"
      ],
      "metadata": {
        "colab": {
          "base_uri": "https://localhost:8080/"
        },
        "id": "WfgRgeV-1wKG",
        "outputId": "0dc6101e-455b-4621-ef43-40097bf27138"
      },
      "execution_count": 19,
      "outputs": [
        {
          "output_type": "execute_result",
          "data": {
            "text/plain": [
              "74     17.0\n",
              "3      16.5\n",
              "185    22.6\n",
              "26     15.0\n",
              "90     14.0\n",
              "       ... \n",
              "87     16.0\n",
              "103    19.7\n",
              "67     13.4\n",
              "24      9.7\n",
              "8       4.8\n",
              "Name: Sales, Length: 140, dtype: float64"
            ]
          },
          "metadata": {},
          "execution_count": 19
        }
      ]
    },
    {
      "cell_type": "markdown",
      "source": [
        "Building and training the model\n",
        "\n",
        "Using the following two packages, we can build a simple linear regression model.\n",
        "\n",
        "*   statsmodel\n",
        "*   sklearn"
      ],
      "metadata": {
        "id": "Jyxsz7K31-Up"
      }
    },
    {
      "cell_type": "markdown",
      "source": [
        "First, we’ll build the model using the statsmodel package. To do that, we need to import the statsmodel.api library to perform linear regression."
      ],
      "metadata": {
        "id": "O3Sz4ZzD2HU2"
      }
    },
    {
      "cell_type": "markdown",
      "source": [
        "By default, the statsmodel library fits a line that passes through the origin. But if we observe the simple linear regression equation y = c + mX, it has an intercept value as c. So, to have an intercept, we need to add the add_constant attribute manually."
      ],
      "metadata": {
        "id": "JC7CWfhS2JIo"
      }
    },
    {
      "cell_type": "code",
      "source": [
        "# Importing Statsmodels.api library from Stamodel package\n",
        "import statsmodels.api as sm\n",
        "\n",
        "# Adding a constant to get an intercept\n",
        "X_train_sm = sm.add_constant(X_train)"
      ],
      "metadata": {
        "id": "7TH0MJd811V0"
      },
      "execution_count": 20,
      "outputs": []
    },
    {
      "cell_type": "markdown",
      "source": [
        "Once we’ve added constant, we can fit the regression line using OLS (Ordinary Least Square) method present in the statsmodel. After that, we’ll see the parameters, i.e., c and m of the straight line."
      ],
      "metadata": {
        "id": "g73xOAcE2tzJ"
      }
    },
    {
      "cell_type": "code",
      "source": [
        "# Fitting the resgression line using 'OLS'\n",
        "lr = sm.OLS(y_train, X_train_sm).fit()\n",
        "\n",
        "# Printing the parameters\n",
        "lr.params"
      ],
      "metadata": {
        "colab": {
          "base_uri": "https://localhost:8080/"
        },
        "id": "CExWBFYH2xxH",
        "outputId": "1465d0c8-031f-4f4a-f5b8-6c06032280ac"
      },
      "execution_count": 21,
      "outputs": [
        {
          "output_type": "execute_result",
          "data": {
            "text/plain": [
              "const    6.948683\n",
              "TV       0.054546\n",
              "dtype: float64"
            ]
          },
          "metadata": {},
          "execution_count": 21
        }
      ]
    },
    {
      "cell_type": "markdown",
      "source": [
        "Let’s see the summary of all the different parameters of the regression line fitted like R², probability of F-statistic, and p-value."
      ],
      "metadata": {
        "id": "RcHc6ym423le"
      }
    },
    {
      "cell_type": "code",
      "source": [
        "# Performing a summary to list out all the different parameters of the regression line fitted\n",
        "lr.summary()"
      ],
      "metadata": {
        "colab": {
          "base_uri": "https://localhost:8080/",
          "height": 444
        },
        "id": "SJ-AEFOy20kY",
        "outputId": "9e78e2d8-10f7-4a20-d91f-5bbc8adf0569"
      },
      "execution_count": 22,
      "outputs": [
        {
          "output_type": "execute_result",
          "data": {
            "text/plain": [
              "<class 'statsmodels.iolib.summary.Summary'>\n",
              "\"\"\"\n",
              "                            OLS Regression Results                            \n",
              "==============================================================================\n",
              "Dep. Variable:                  Sales   R-squared:                       0.816\n",
              "Model:                            OLS   Adj. R-squared:                  0.814\n",
              "Method:                 Least Squares   F-statistic:                     611.2\n",
              "Date:                Sun, 08 Jan 2023   Prob (F-statistic):           1.52e-52\n",
              "Time:                        14:49:33   Log-Likelihood:                -321.12\n",
              "No. Observations:                 140   AIC:                             646.2\n",
              "Df Residuals:                     138   BIC:                             652.1\n",
              "Df Model:                           1                                         \n",
              "Covariance Type:            nonrobust                                         \n",
              "==============================================================================\n",
              "                 coef    std err          t      P>|t|      [0.025      0.975]\n",
              "------------------------------------------------------------------------------\n",
              "const          6.9487      0.385     18.068      0.000       6.188       7.709\n",
              "TV             0.0545      0.002     24.722      0.000       0.050       0.059\n",
              "==============================================================================\n",
              "Omnibus:                        0.027   Durbin-Watson:                   2.196\n",
              "Prob(Omnibus):                  0.987   Jarque-Bera (JB):                0.150\n",
              "Skew:                          -0.006   Prob(JB):                        0.928\n",
              "Kurtosis:                       2.840   Cond. No.                         328.\n",
              "==============================================================================\n",
              "\n",
              "Notes:\n",
              "[1] Standard Errors assume that the covariance matrix of the errors is correctly specified.\n",
              "\"\"\""
            ],
            "text/html": [
              "<table class=\"simpletable\">\n",
              "<caption>OLS Regression Results</caption>\n",
              "<tr>\n",
              "  <th>Dep. Variable:</th>          <td>Sales</td>      <th>  R-squared:         </th> <td>   0.816</td>\n",
              "</tr>\n",
              "<tr>\n",
              "  <th>Model:</th>                   <td>OLS</td>       <th>  Adj. R-squared:    </th> <td>   0.814</td>\n",
              "</tr>\n",
              "<tr>\n",
              "  <th>Method:</th>             <td>Least Squares</td>  <th>  F-statistic:       </th> <td>   611.2</td>\n",
              "</tr>\n",
              "<tr>\n",
              "  <th>Date:</th>             <td>Sun, 08 Jan 2023</td> <th>  Prob (F-statistic):</th> <td>1.52e-52</td>\n",
              "</tr>\n",
              "<tr>\n",
              "  <th>Time:</th>                 <td>14:49:33</td>     <th>  Log-Likelihood:    </th> <td> -321.12</td>\n",
              "</tr>\n",
              "<tr>\n",
              "  <th>No. Observations:</th>      <td>   140</td>      <th>  AIC:               </th> <td>   646.2</td>\n",
              "</tr>\n",
              "<tr>\n",
              "  <th>Df Residuals:</th>          <td>   138</td>      <th>  BIC:               </th> <td>   652.1</td>\n",
              "</tr>\n",
              "<tr>\n",
              "  <th>Df Model:</th>              <td>     1</td>      <th>                     </th>     <td> </td>   \n",
              "</tr>\n",
              "<tr>\n",
              "  <th>Covariance Type:</th>      <td>nonrobust</td>    <th>                     </th>     <td> </td>   \n",
              "</tr>\n",
              "</table>\n",
              "<table class=\"simpletable\">\n",
              "<tr>\n",
              "    <td></td>       <th>coef</th>     <th>std err</th>      <th>t</th>      <th>P>|t|</th>  <th>[0.025</th>    <th>0.975]</th>  \n",
              "</tr>\n",
              "<tr>\n",
              "  <th>const</th> <td>    6.9487</td> <td>    0.385</td> <td>   18.068</td> <td> 0.000</td> <td>    6.188</td> <td>    7.709</td>\n",
              "</tr>\n",
              "<tr>\n",
              "  <th>TV</th>    <td>    0.0545</td> <td>    0.002</td> <td>   24.722</td> <td> 0.000</td> <td>    0.050</td> <td>    0.059</td>\n",
              "</tr>\n",
              "</table>\n",
              "<table class=\"simpletable\">\n",
              "<tr>\n",
              "  <th>Omnibus:</th>       <td> 0.027</td> <th>  Durbin-Watson:     </th> <td>   2.196</td>\n",
              "</tr>\n",
              "<tr>\n",
              "  <th>Prob(Omnibus):</th> <td> 0.987</td> <th>  Jarque-Bera (JB):  </th> <td>   0.150</td>\n",
              "</tr>\n",
              "<tr>\n",
              "  <th>Skew:</th>          <td>-0.006</td> <th>  Prob(JB):          </th> <td>   0.928</td>\n",
              "</tr>\n",
              "<tr>\n",
              "  <th>Kurtosis:</th>      <td> 2.840</td> <th>  Cond. No.          </th> <td>    328.</td>\n",
              "</tr>\n",
              "</table><br/><br/>Notes:<br/>[1] Standard Errors assume that the covariance matrix of the errors is correctly specified."
            ]
          },
          "metadata": {},
          "execution_count": 22
        }
      ]
    },
    {
      "cell_type": "markdown",
      "source": [
        "So, the statistics we are mainly concerned with to determine whether the model is viable or not are:\n",
        "\n",
        "1. The coefficients and its p-value(significance)\n",
        "2. R-squared value\n",
        "3. F-statistic and its significance"
      ],
      "metadata": {
        "id": "ONljmhAj2-pQ"
      }
    },
    {
      "cell_type": "markdown",
      "source": [
        "1. The coefficient for TV is 0.054, and its corresponding p-value is very low, almost 0. That means the coefficient is statistically significant.\n",
        "\n",
        "We have to make sure that the p-value should always be less for the coefficient to be significant\n",
        "\n",
        "2. R-squared value is 0.816, which means that 81.6% of the Sales variance can be explained by the TV column using this line.\n",
        "\n",
        "3. Prob F-statistic has a very low p-value, practically zero, which gives us that the model fit is statistically significant."
      ],
      "metadata": {
        "id": "kdlFlx3V3LhB"
      }
    },
    {
      "cell_type": "markdown",
      "source": [
        "Since the fit is significant, let’s go ahead and visualize how well the straight-line fits the scatter plot between TV and Sales columns.\n",
        "\n",
        "From the parameters, we got the values of the intercept and the slope for the straight line. The equation of the line is,\n",
        "\n",
        "Sales = 6.948 + 0.054 * TV"
      ],
      "metadata": {
        "id": "PfeKlfyS3PeV"
      }
    },
    {
      "cell_type": "code",
      "source": [
        "# Visualizing the regression line\n",
        "plt.scatter(X_train, y_train)\n",
        "plt.plot(X_train, 6.948 + 0.054*X_train, 'r')\n",
        "plt.show()"
      ],
      "metadata": {
        "colab": {
          "base_uri": "https://localhost:8080/",
          "height": 265
        },
        "id": "FWrDFSNT26H2",
        "outputId": "b8c646e6-7560-4aa9-a9e1-6bd5a8dc1514"
      },
      "execution_count": 23,
      "outputs": [
        {
          "output_type": "display_data",
          "data": {
            "text/plain": [
              "<Figure size 432x288 with 1 Axes>"
            ],
            "image/png": "[encoded data removed]"
          },
          "metadata": {
            "needs_background": "light"
          }
        }
      ]
    },
    {
      "cell_type": "markdown",
      "source": [
        "This is how we build a simple linear regression model using training data. Now before evaluating the model on test data, we have to perform residual analysis."
      ],
      "metadata": {
        "id": "pAPCn1eB3Ua1"
      }
    },
    {
      "cell_type": "markdown",
      "source": [
        "## Residual Analysis\n",
        "\n",
        "One of the major assumptions of the linear regression model is the error terms are normally distributed.\n",
        "\n",
        "Error = Actual y value - y predicted value\n",
        "\n",
        "Now from the dataset,\n",
        "We have to predict the y value from the training dataset of X using the predict attribute. After that, we’ll create the error terms(Residuals) from the predicted data."
      ],
      "metadata": {
        "id": "kQWTzz9n3WwG"
      }
    },
    {
      "cell_type": "code",
      "source": [
        "# Predicting y_value using traingn data of X\n",
        "y_train_pred = lr.predict(X_train_sm)\n",
        "\n",
        "# Creating residuals from the y_train data and predicted y_data\n",
        "res = (y_train - y_train_pred)"
      ],
      "metadata": {
        "id": "T8uGXh5j3SSA"
      },
      "execution_count": 25,
      "outputs": []
    },
    {
      "cell_type": "markdown",
      "source": [
        "Now, let’s plot the histogram of the residuals and see whether it looks like normal distribution or not."
      ],
      "metadata": {
        "id": "2rkJUIIr3cEM"
      }
    },
    {
      "cell_type": "code",
      "source": [
        "# Plotting the histogram using the residual values\n",
        "fig = plt.figure()\n",
        "sns.distplot(res, bins = 15)\n",
        "plt.title('Error Terms', fontsize = 15)\n",
        "plt.xlabel('y_train - y_train_pred', fontsize = 15)\n",
        "plt.show()"
      ],
      "metadata": {
        "colab": {
          "base_uri": "https://localhost:8080/",
          "height": 304
        },
        "id": "NNI-8FjL3dz1",
        "outputId": "1b471bad-a4be-40a5-bcb3-2a60974af81b"
      },
      "execution_count": 26,
      "outputs": [
        {
          "output_type": "display_data",
          "data": {
            "text/plain": [
              "<Figure size 432x288 with 1 Axes>"
            ],
            "image/png": "[encoded data removed]"
          },
          "metadata": {
            "needs_background": "light"
          }
        }
      ]
    },
    {
      "cell_type": "markdown",
      "source": [
        "As we can see, the residuals are following the normal distribution graph with a mean 0."
      ],
      "metadata": {
        "id": "gRp2ZfUx3j0p"
      }
    },
    {
      "cell_type": "markdown",
      "source": [
        "Now, make sure that the residuals are not following any specific pattern."
      ],
      "metadata": {
        "id": "BBxqwHTB3lej"
      }
    },
    {
      "cell_type": "code",
      "source": [
        "# Looking for any patterns in the residuals\n",
        "plt.scatter(X_train,res)\n",
        "plt.show()"
      ],
      "metadata": {
        "colab": {
          "base_uri": "https://localhost:8080/",
          "height": 265
        },
        "id": "LYQDQzdh3faT",
        "outputId": "aced9e43-48bb-4fb6-b950-12877ef76836"
      },
      "execution_count": 28,
      "outputs": [
        {
          "output_type": "display_data",
          "data": {
            "text/plain": [
              "<Figure size 432x288 with 1 Axes>"
            ],
            "image/png": "[encoded data removed]"
          },
          "metadata": {
            "needs_background": "light"
          }
        }
      ]
    },
    {
      "cell_type": "markdown",
      "source": [
        "Since the Residuals follow a normal distribution and do not follow any specific pattern, we can use the linear regression model we have built to evaluate test data."
      ],
      "metadata": {
        "id": "2w7zi39U3rsV"
      }
    },
    {
      "cell_type": "markdown",
      "source": [
        "## Predictions on the Test data or Evaluating the model\n",
        "Now that we have fitted the regression line on our train dataset, we can make some predictions to the test data. Similar to the training dataset, we have to add_constant to the test data and predict the y values using the predict attribute present in the statsmodel."
      ],
      "metadata": {
        "id": "TsXDZg-c3sMf"
      }
    },
    {
      "cell_type": "code",
      "source": [
        "# Adding a constant to X_test\n",
        "X_test_sm = sm.add_constant(X_test)\n",
        "\n",
        "# Predicting the y values corresponding to X_test_sm\n",
        "y_test_pred = lr.predict(X_test_sm)\n",
        "\n",
        "# Printing the first 15 predicted values\n",
        "y_test_pred"
      ],
      "metadata": {
        "colab": {
          "base_uri": "https://localhost:8080/"
        },
        "id": "1nFFxqyG3vmB",
        "outputId": "9d047bc6-f577-4bf9-b598-bfe05b4407a3"
      },
      "execution_count": 27,
      "outputs": [
        {
          "output_type": "execute_result",
          "data": {
            "text/plain": [
              "126     7.374140\n",
              "104    19.941482\n",
              "99     14.323269\n",
              "92     18.823294\n",
              "111    20.132392\n",
              "167    18.228745\n",
              "116    14.541452\n",
              "96     17.726924\n",
              "52     18.752384\n",
              "69     18.774202\n",
              "164    13.341445\n",
              "124    19.466933\n",
              "182    10.014155\n",
              "154    17.192376\n",
              "125    11.705073\n",
              "196    12.086893\n",
              "194    15.114182\n",
              "177    16.232370\n",
              "163    15.866914\n",
              "31     13.106899\n",
              "11     18.659656\n",
              "73     14.006904\n",
              "15     17.606923\n",
              "41     16.603281\n",
              "97     17.034193\n",
              "128    18.965113\n",
              "133    18.937840\n",
              "82     11.055978\n",
              "139    17.034193\n",
              "123    13.663265\n",
              "83     10.679613\n",
              "65     10.712340\n",
              "151    13.548719\n",
              "162    17.225103\n",
              "170     9.675971\n",
              "77     13.521446\n",
              "32     12.250530\n",
              "173    16.134188\n",
              "174    19.079659\n",
              "85     17.486923\n",
              "168    18.697838\n",
              "112    16.532372\n",
              "171    15.921460\n",
              "181    18.866930\n",
              "7      13.505083\n",
              "46     11.841437\n",
              "75      7.870506\n",
              "28     20.519667\n",
              "29     10.799613\n",
              "195     9.032331\n",
              "40     17.994198\n",
              "153    16.292371\n",
              "115    11.045069\n",
              "64     14.099631\n",
              "59     18.441473\n",
              "1       9.375969\n",
              "192     7.886870\n",
              "136     8.345054\n",
              "152    17.726924\n",
              "161    11.623254\n",
              "dtype: float64"
            ]
          },
          "metadata": {},
          "execution_count": 27
        }
      ]
    },
    {
      "cell_type": "markdown",
      "source": [
        "Now, let’s calculate the R² value for the above-predicted y-values. We can do that by merely importing the r2_score library from sklearn.metrics package."
      ],
      "metadata": {
        "id": "MHqI1dSI3y1x"
      }
    },
    {
      "cell_type": "code",
      "source": [
        "# Importing r2_square\n",
        "from sklearn.metrics import r2_score\n",
        "\n",
        "# Checking the R-squared value\n",
        "r_squared = r2_score(y_test, y_test_pred)\n",
        "r_squared"
      ],
      "metadata": {
        "colab": {
          "base_uri": "https://localhost:8080/"
        },
        "id": "ehu1ZoHI3wLE",
        "outputId": "673ed5cb-7cd3-4b85-e72f-7b9f18845f57"
      },
      "execution_count": 29,
      "outputs": [
        {
          "output_type": "execute_result",
          "data": {
            "text/plain": [
              "0.792103160124566"
            ]
          },
          "metadata": {},
          "execution_count": 29
        }
      ]
    },
    {
      "cell_type": "markdown",
      "source": [
        "The R² value by using the above code = 0.792\n",
        "\n",
        "If we can remember from the training data, the R² value = 0.815\n",
        "\n",
        "Since the R² value on test data is within 5% of the R² value on training data, we can conclude that the model is pretty stable. Which means, what the model has learned on the training set can generalize on the unseen test set.\n",
        "\n",
        "Let’s visualize the line on the test data."
      ],
      "metadata": {
        "id": "6lydSafq32fn"
      }
    },
    {
      "cell_type": "code",
      "source": [
        "# Visualize the line on the test set\n",
        "plt.scatter(X_test, y_test)\n",
        "plt.plot(X_test, y_test_pred, 'r')\n",
        "plt.show()"
      ],
      "metadata": {
        "colab": {
          "base_uri": "https://localhost:8080/",
          "height": 265
        },
        "id": "p-ItcBZz309t",
        "outputId": "e85eb238-c9b2-4494-9df6-75f58b5b8154"
      },
      "execution_count": 30,
      "outputs": [
        {
          "output_type": "display_data",
          "data": {
            "text/plain": [
              "<Figure size 432x288 with 1 Axes>"
            ],
            "image/png": "[encoded data removed]"
          },
          "metadata": {
            "needs_background": "light"
          }
        }
      ]
    },
    {
      "cell_type": "markdown",
      "source": [
        "This is how we build a linear regression model using the statsmodel package.\n",
        "\n",
        "Apart from the statsmodel, we can build a linear regression model using sklearn. Using the linear_model library from sklearn, we can make the model.\n",
        "\n",
        "Similar to statsmodel, we’ll split the data into train and test."
      ],
      "metadata": {
        "id": "Bvc8ffw436o4"
      }
    },
    {
      "cell_type": "code",
      "source": [
        "# Splitting the data into train and test\n",
        "from sklearn.model_selection import train_test_split\n",
        "X_train_lm, X_test_lm, y_train_lm, y_test_lm = train_test_split(X, y, train_size = 0.7, test_size = 0.3, random_state = 100)"
      ],
      "metadata": {
        "id": "6ri9SUBA342C"
      },
      "execution_count": 31,
      "outputs": []
    },
    {
      "cell_type": "markdown",
      "source": [
        "For simple linear regression, we need to add a column to perform the regression fit properly."
      ],
      "metadata": {
        "id": "i3rXCIV_4ASj"
      }
    },
    {
      "cell_type": "code",
      "source": [
        "\n",
        "# Shape of the train set without adding column\n",
        "X_train_lm.shape\n",
        "\n",
        "# Adding additional column to the train and test data\n",
        "X_train_lm = X_train_lm.values.reshape(-1,1)\n",
        "X_test_lm = X_test_lm.values.reshape(-1,1)\n",
        "\n",
        "print(X_train_lm.shape)\n",
        "print(X_test_lm.shape)"
      ],
      "metadata": {
        "colab": {
          "base_uri": "https://localhost:8080/"
        },
        "id": "HtJ0WGyP3-z9",
        "outputId": "0b140e1a-0a19-4bc3-c498-4d634c5544a7"
      },
      "execution_count": 32,
      "outputs": [
        {
          "output_type": "stream",
          "name": "stdout",
          "text": [
            "(140, 1)\n",
            "(60, 1)\n"
          ]
        }
      ]
    },
    {
      "cell_type": "markdown",
      "source": [
        "The shape of X_train before adding a column is (140, ).\n",
        "The shape of X for train and test data is (140, 1).\n",
        "\n",
        "Now, let’s fit the line to the plot importing the LinearRegression library from the sklearn.linear_model."
      ],
      "metadata": {
        "id": "sYi1SUIk4D-C"
      }
    },
    {
      "cell_type": "code",
      "source": [
        "from sklearn.linear_model import LinearRegression\n",
        "\n",
        "# Creating an object of Linear Regression\n",
        "lm = LinearRegression()\n",
        "\n",
        "# Fit the model using .fit() method\n",
        "lm.fit(X_train_lm, y_train_lm)"
      ],
      "metadata": {
        "colab": {
          "base_uri": "https://localhost:8080/"
        },
        "id": "eIu2-hXb4BRr",
        "outputId": "f34fe677-1354-4021-a5b8-180bb8f04b65"
      },
      "execution_count": 34,
      "outputs": [
        {
          "output_type": "execute_result",
          "data": {
            "text/plain": [
              "LinearRegression()"
            ]
          },
          "metadata": {},
          "execution_count": 34
        }
      ]
    },
    {
      "cell_type": "code",
      "source": [
        "\n",
        "# Intercept value\n",
        "print(\"Intercept :\",lm.intercept_)\n",
        "\n",
        "# Slope value\n",
        "print('Slope :',lm.coef_)"
      ],
      "metadata": {
        "colab": {
          "base_uri": "https://localhost:8080/"
        },
        "id": "LjhOxGbr4DGH",
        "outputId": "fc780095-5110-42a0-f01c-dcd511d71bbb"
      },
      "execution_count": 35,
      "outputs": [
        {
          "output_type": "stream",
          "name": "stdout",
          "text": [
            "Intercept : 6.948683200001357\n",
            "Slope : [0.05454575]\n"
          ]
        }
      ]
    },
    {
      "cell_type": "markdown",
      "source": [
        "The straight-line equation we get for the above values is,\n",
        "Sales = 6.948 + 0.054 * TV\n",
        "If we observe, the equation we got here is the same as the one we got in the statsmodel.\n",
        "\n",
        "After that, we’ll make the predictions and on the data and evaluate the model by comparing the R² values."
      ],
      "metadata": {
        "id": "bSPjsSNi4NiX"
      }
    },
    {
      "cell_type": "code",
      "source": [
        "# Making Predictions of y_value\n",
        "y_train_pred = lm.predict(X_train_lm)\n",
        "y_test_pred = lm.predict(X_test_lm)\n",
        "\n",
        "# Comparing the r2 value of both train and test data\n",
        "print(r2_score(y_train,y_train_pred))\n",
        "print(r2_score(y_test,y_test_pred))"
      ],
      "metadata": {
        "colab": {
          "base_uri": "https://localhost:8080/"
        },
        "id": "0jmROXKs4Jm_",
        "outputId": "4d4f2b52-ec5d-41c0-bb9d-d1f7a59d0ad4"
      },
      "execution_count": 36,
      "outputs": [
        {
          "output_type": "stream",
          "name": "stdout",
          "text": [
            "0.8157933136480389\n",
            "0.7921031601245662\n"
          ]
        }
      ]
    },
    {
      "cell_type": "markdown",
      "source": [
        "The R² values of the train and test data are\n",
        "R² train_data = 0.816\n",
        "R² test_data = 0.792\n",
        "\n",
        "Same as the statesmodel, the R² value on test data is within 5% of the R² value on training data. We can apply the model to the unseen test set in the future."
      ],
      "metadata": {
        "id": "7r4VL58D4Rrb"
      }
    },
    {
      "cell_type": "markdown",
      "source": [
        "Conclusion\n",
        "As we have seen, we can build a linear regression model using either a statsmodel or sklearn.\n",
        "\n",
        "We have to make sure to follow these five steps to build the simple linear regression model:\n",
        "\n",
        "1. Reading and understanding the data\n",
        "2. Visualizing the data\n",
        "3. Performing simple linear regression\n",
        "4. Residual analysis\n",
        "5. Predictions on the test set"
      ],
      "metadata": {
        "id": "_Ztuvszc4VAc"
      }
    }
  ]
}